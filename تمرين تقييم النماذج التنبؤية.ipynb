{
 "cells": [
  {
   "cell_type": "code",
   "execution_count": 3,
   "id": "48ae37d4",
   "metadata": {},
   "outputs": [],
   "source": [
    "from sklearn.datasets import load_boston\n",
    "\n",
    "\n",
    "\n"
   ]
  },
  {
   "cell_type": "code",
   "execution_count": 4,
   "id": "e183aa5c",
   "metadata": {},
   "outputs": [],
   "source": [
    "bosten_data = load_boston()"
   ]
  },
  {
   "cell_type": "code",
   "execution_count": 5,
   "id": "4fe6e604",
   "metadata": {},
   "outputs": [],
   "source": [
    "X =bosten_data['data']\n",
    "y = bosten_data['target']"
   ]
  },
  {
   "cell_type": "code",
   "execution_count": null,
   "id": "a0cbb44e",
   "metadata": {},
   "outputs": [],
   "source": [
    "from sklearn.linear_model import Lin"
   ]
  }
 ],
 "metadata": {
  "kernelspec": {
   "display_name": "Python 3 (ipykernel)",
   "language": "python",
   "name": "python3"
  },
  "language_info": {
   "codemirror_mode": {
    "name": "ipython",
    "version": 3
   },
   "file_extension": ".py",
   "mimetype": "text/x-python",
   "name": "python",
   "nbconvert_exporter": "python",
   "pygments_lexer": "ipython3",
   "version": "3.9.7"
  }
 },
 "nbformat": 4,
 "nbformat_minor": 5
}
