{
 "cells": [
  {
   "cell_type": "code",
   "execution_count": 3,
   "id": "683c5d66",
   "metadata": {},
   "outputs": [],
   "source": [
    "from sklearn.datasets import load_boston\n"
   ]
  },
  {
   "cell_type": "code",
   "execution_count": 4,
   "id": "2c5f3358",
   "metadata": {},
   "outputs": [],
   "source": [
    "bosten_data = load_boston()"
   ]
  },
  {
   "cell_type": "code",
   "execution_count": 24,
   "id": "54c028a5",
   "metadata": {},
   "outputs": [],
   "source": [
    "X =bosten_data['data']       # 13  predictors \n",
    "y = bosten_data['target']    #  1 response varibale"
   ]
  },
  {
   "cell_type": "code",
   "execution_count": 25,
   "id": "b8569d5e",
   "metadata": {},
   "outputs": [],
   "source": [
    "from sklearn.linear_model import LinearRegression\n",
    "model = LinearRegression()"
   ]
  },
  {
   "cell_type": "code",
   "execution_count": 26,
   "id": "8aea5efc",
   "metadata": {},
   "outputs": [],
   "source": [
    "from sklearn.model_selection import cross_val_score"
   ]
  },
  {
   "cell_type": "code",
   "execution_count": 35,
   "id": "96b5ca23",
   "metadata": {},
   "outputs": [
    {
     "data": {
      "text/plain": [
       "array([-12.46030057, -26.04862111, -33.07413798, -80.76237112,\n",
       "       -33.31360656])"
      ]
     },
     "execution_count": 35,
     "metadata": {},
     "output_type": "execute_result"
    }
   ],
   "source": [
    "#معدل الخطأ التربيعي\n",
    "MSE = cross_val_score(model , X , y , cv=5 , scoring='neg_mean_squared_error')\n",
    "MSE"
   ]
  },
  {
   "cell_type": "code",
   "execution_count": 36,
   "id": "0859a18f",
   "metadata": {},
   "outputs": [
    {
     "data": {
      "text/plain": [
       "-37.13180746769922"
      ]
     },
     "execution_count": 36,
     "metadata": {},
     "output_type": "execute_result"
    }
   ],
   "source": [
    "MSE.mean()"
   ]
  },
  {
   "cell_type": "code",
   "execution_count": 38,
   "id": "70e4173a",
   "metadata": {},
   "outputs": [
    {
     "data": {
      "text/plain": [
       "array([-2.62190565, -3.90725478, -4.386606  , -5.57073637, -4.76333993])"
      ]
     },
     "execution_count": 38,
     "metadata": {},
     "output_type": "execute_result"
    }
   ],
   "source": [
    "#معدل الفرق المطلق\n",
    "MAE = cross_val_score(model , X , y , cv=5 , scoring='neg_mean_absolute_error')\n",
    "MAE"
   ]
  },
  {
   "cell_type": "code",
   "execution_count": 39,
   "id": "ce6011a1",
   "metadata": {},
   "outputs": [
    {
     "data": {
      "text/plain": [
       "-4.249968544192538"
      ]
     },
     "execution_count": 39,
     "metadata": {},
     "output_type": "execute_result"
    }
   ],
   "source": [
    "MAE.mean()"
   ]
  },
  {
   "cell_type": "code",
   "execution_count": 40,
   "id": "99390f2f",
   "metadata": {},
   "outputs": [
    {
     "data": {
      "text/plain": [
       "array([ 0.63919994,  0.71386698,  0.58702344,  0.07923081, -0.25294154])"
      ]
     },
     "execution_count": 40,
     "metadata": {},
     "output_type": "execute_result"
    }
   ],
   "source": [
    "#معدل الترابط \n",
    "r2 = cross_val_score(model , X , y , cv=5 , scoring='r2')\n",
    "r2"
   ]
  },
  {
   "cell_type": "code",
   "execution_count": 41,
   "id": "1d560a21",
   "metadata": {},
   "outputs": [
    {
     "data": {
      "text/plain": [
       "0.3532759243958772"
      ]
     },
     "execution_count": 41,
     "metadata": {},
     "output_type": "execute_result"
    }
   ],
   "source": [
    "r2.mean()"
   ]
  },
  {
   "cell_type": "code",
   "execution_count": null,
   "id": "0ddcfeb7",
   "metadata": {},
   "outputs": [],
   "source": []
  },
  {
   "cell_type": "code",
   "execution_count": null,
   "id": "99271018",
   "metadata": {},
   "outputs": [],
   "source": []
  }
 ],
 "metadata": {
  "kernelspec": {
   "display_name": "Python 3 (ipykernel)",
   "language": "python",
   "name": "python3"
  },
  "language_info": {
   "codemirror_mode": {
    "name": "ipython",
    "version": 3
   },
   "file_extension": ".py",
   "mimetype": "text/x-python",
   "name": "python",
   "nbconvert_exporter": "python",
   "pygments_lexer": "ipython3",
   "version": "3.9.7"
  }
 },
 "nbformat": 4,
 "nbformat_minor": 5
}
