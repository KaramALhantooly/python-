{
 "cells": [
  {
   "cell_type": "code",
   "execution_count": 33,
   "id": "66f12157",
   "metadata": {},
   "outputs": [],
   "source": [
    "import numpy as np\n",
    "import pandas as pd"
   ]
  },
  {
   "cell_type": "code",
   "execution_count": 34,
   "id": "948a4f60",
   "metadata": {},
   "outputs": [
    {
     "data": {
      "text/plain": [
       "array([[ 8.14078774, 57.15929504],\n",
       "       [38.05584541, 77.39724671],\n",
       "       [18.98274144,  6.88863217],\n",
       "       [ 6.97028827,  5.81501143],\n",
       "       [16.59970617, 68.48082318],\n",
       "       [98.56295853, 44.78242292],\n",
       "       [ 6.92629288, 68.76529524],\n",
       "       [70.86458913, 88.25759871],\n",
       "       [21.67966122, 92.26936846],\n",
       "       [51.16755137, 49.55952073],\n",
       "       [ 7.79514575, 57.15729026],\n",
       "       [42.62607699, 37.09755395],\n",
       "       [87.37469046, 88.23097104],\n",
       "       [52.38247133, 63.87089653],\n",
       "       [73.6408066 , 49.48199364],\n",
       "       [92.47978316, 45.78519819],\n",
       "       [96.76861747,  8.84870564],\n",
       "       [68.31501044, 72.44025484],\n",
       "       [31.54326619, 46.47502927],\n",
       "       [23.13254892, 45.66171315],\n",
       "       [95.00352175, 10.81299645],\n",
       "       [50.70798549, 61.5736618 ],\n",
       "       [72.73224235, 90.01511068],\n",
       "       [74.16471707, 10.5623371 ],\n",
       "       [49.19782109, 10.38401611],\n",
       "       [65.81274111, 46.63452421],\n",
       "       [84.41823692, 17.67801121],\n",
       "       [36.72020057, 49.05648454],\n",
       "       [60.52321262, 55.35708216],\n",
       "       [31.9062631 , 76.15842558],\n",
       "       [52.77885489, 68.53857075],\n",
       "       [60.05206927, 12.09136087],\n",
       "       [52.40459164, 20.66499608],\n",
       "       [10.7321218 , 57.60753428],\n",
       "       [72.76845286,  4.62866635],\n",
       "       [ 2.38517034, 41.68079345],\n",
       "       [43.45793936, 54.68702799],\n",
       "       [70.26052887, 24.69298375],\n",
       "       [76.34135764, 10.00109609],\n",
       "       [ 7.72780632,  6.16814889],\n",
       "       [ 2.17797156, 13.80713075],\n",
       "       [76.20069036, 60.91843654],\n",
       "       [62.99003599, 63.29766217],\n",
       "       [74.28331238, 34.65259211],\n",
       "       [45.553405  , 23.2850567 ],\n",
       "       [42.39159031, 51.59299855],\n",
       "       [67.65302533, 33.85568952],\n",
       "       [14.32387463, 69.5387787 ],\n",
       "       [44.54370257, 45.46226276],\n",
       "       [ 9.00223958,  9.86735004],\n",
       "       [52.62170425, 63.87931201],\n",
       "       [27.67824286, 56.87925294],\n",
       "       [85.449484  , 72.91125185],\n",
       "       [83.43110994,  6.45503358],\n",
       "       [17.27217925, 46.17974808],\n",
       "       [74.4133052 , 43.00006621],\n",
       "       [64.27799565,  5.84551247],\n",
       "       [50.04040166, 68.37540755],\n",
       "       [97.61318054, 52.23429812],\n",
       "       [94.23282795, 49.47820804],\n",
       "       [ 0.78070116,  1.46598727],\n",
       "       [ 6.34840719, 11.87707774],\n",
       "       [74.03522488,  8.60820232],\n",
       "       [54.39681323, 14.28678619],\n",
       "       [61.62908164, 56.08205746],\n",
       "       [69.23856955, 82.14131699],\n",
       "       [ 0.47346064, 65.45751707],\n",
       "       [65.65014608, 18.47444691],\n",
       "       [80.40985175, 65.86496323],\n",
       "       [42.6964297 , 34.40593653],\n",
       "       [91.37488146, 36.12654829],\n",
       "       [74.80483474, 83.4696823 ],\n",
       "       [50.92318801, 30.38400767],\n",
       "       [46.60226968, 20.22188626],\n",
       "       [57.5360218 ,  5.19515172],\n",
       "       [63.42063766, 92.32835001],\n",
       "       [20.5539619 , 53.34988641],\n",
       "       [ 2.46541762, 71.04658807],\n",
       "       [17.89036631, 84.48008487],\n",
       "       [ 8.67958383, 71.51069815],\n",
       "       [33.05314824, 24.37064844],\n",
       "       [36.41728245, 99.43559402],\n",
       "       [40.44204607, 16.4804967 ],\n",
       "       [92.30326611, 37.3991469 ],\n",
       "       [59.28052189, 80.4713988 ],\n",
       "       [ 6.56451849, 34.64961622],\n",
       "       [14.88682597, 20.30156086],\n",
       "       [99.36405727, 60.6179901 ],\n",
       "       [28.67341919, 66.01258616],\n",
       "       [64.14969769,  2.65498553],\n",
       "       [62.84951608, 49.58802477],\n",
       "       [83.94986993, 23.89115334],\n",
       "       [98.31341907, 70.70309874],\n",
       "       [66.81566599, 35.16423585],\n",
       "       [59.15749822, 40.85454396],\n",
       "       [29.94730725, 95.05678588],\n",
       "       [21.3420098 , 57.68790316],\n",
       "       [26.29376658, 57.78225752],\n",
       "       [80.61885899,  3.47083412],\n",
       "       [83.74709457,  2.95607383],\n",
       "       [16.31684433, 53.06593205],\n",
       "       [ 0.26841051, 70.14199053],\n",
       "       [ 3.92034253, 86.38143697],\n",
       "       [39.41200326, 99.01204435],\n",
       "       [ 0.44292691, 54.3646601 ],\n",
       "       [49.75508937, 33.4249555 ],\n",
       "       [59.39908253, 78.25855469],\n",
       "       [38.35177958, 82.48169994],\n",
       "       [72.69181337, 95.10754538],\n",
       "       [72.64843894, 98.13892537],\n",
       "       [22.66527705, 34.58147193],\n",
       "       [79.88542261, 22.0390662 ],\n",
       "       [19.81968282, 64.1783555 ],\n",
       "       [41.70596878, 26.9636015 ],\n",
       "       [42.14049607, 29.32023548],\n",
       "       [84.73974069, 55.53837704],\n",
       "       [ 8.98614828,  8.91157472],\n",
       "       [57.57060712, 74.31040051],\n",
       "       [27.1809413 , 70.08013816],\n",
       "       [42.73402271, 43.99343491],\n",
       "       [46.75444107, 82.87320371],\n",
       "       [43.60525121, 79.63258413],\n",
       "       [27.08392949, 65.07281121],\n",
       "       [53.76552791, 15.21309658],\n",
       "       [70.97919917, 16.61672129],\n",
       "       [68.44892784, 78.37986822],\n",
       "       [55.56773315, 18.16826778],\n",
       "       [77.01566408, 91.58277858],\n",
       "       [39.08176956, 33.22643912],\n",
       "       [63.10018864, 42.73357254],\n",
       "       [90.94628395, 25.47498417],\n",
       "       [50.28667273, 28.49822215],\n",
       "       [32.1685588 , 54.42520231],\n",
       "       [37.24149295, 67.97669524],\n",
       "       [ 4.04496666, 23.49002989],\n",
       "       [17.38013738, 91.71675589],\n",
       "       [43.31928899, 17.07285525],\n",
       "       [36.79500657, 31.0232338 ],\n",
       "       [31.6652364 , 98.32729586],\n",
       "       [53.41925691, 38.76827579],\n",
       "       [47.33302896, 67.31981969],\n",
       "       [91.80678368, 36.39345811],\n",
       "       [62.93044095, 74.05712457],\n",
       "       [79.84625127, 94.34388248],\n",
       "       [ 6.43960008, 32.67636498],\n",
       "       [65.49530795, 96.38263232],\n",
       "       [22.94377166, 94.03109144],\n",
       "       [19.81403738, 34.78316673],\n",
       "       [13.81319302, 20.83964739],\n",
       "       [10.32915108, 91.3062826 ],\n",
       "       [76.54351817, 18.77760864],\n",
       "       [18.12645085, 57.7457859 ],\n",
       "       [38.60543615, 25.18842022],\n",
       "       [ 6.94148976, 68.27879929],\n",
       "       [ 2.26211079, 46.78725624],\n",
       "       [55.85788756, 60.83969206],\n",
       "       [69.50441381,  6.17778616],\n",
       "       [12.55667121, 34.48824442],\n",
       "       [15.14801913, 89.56580063],\n",
       "       [86.36761402, 76.26310032],\n",
       "       [66.75275938, 58.17482359],\n",
       "       [23.67104824, 27.61877501],\n",
       "       [64.00844958,  1.98383386],\n",
       "       [20.98876477,  2.86902601],\n",
       "       [45.33207893, 32.71302959],\n",
       "       [12.03225908, 86.70149761],\n",
       "       [82.56314789, 38.37131829],\n",
       "       [97.7088687 , 75.30813154],\n",
       "       [62.23463475, 45.32001607],\n",
       "       [12.65791882,  5.43479998],\n",
       "       [89.18609196, 25.20847593],\n",
       "       [19.13020407, 33.56794472],\n",
       "       [32.45035224, 33.54530321],\n",
       "       [49.32269843, 18.80259412],\n",
       "       [78.94639707,  4.59768325],\n",
       "       [98.64332273, 86.8192587 ],\n",
       "       [84.99056699, 98.67481817],\n",
       "       [ 0.3706756 , 67.68274314],\n",
       "       [74.33136997, 21.60108334],\n",
       "       [53.66732161, 41.95062093],\n",
       "       [87.15500035, 15.83348975],\n",
       "       [89.68124911, 52.91271871],\n",
       "       [ 0.35239627, 24.18275577],\n",
       "       [41.76603018, 97.17980426],\n",
       "       [10.34301649, 33.21701722],\n",
       "       [39.72963654, 81.11630685],\n",
       "       [20.0376045 , 16.77421982],\n",
       "       [26.07645369, 86.56067282],\n",
       "       [17.61772576, 49.63039672],\n",
       "       [69.47099267, 28.21135587],\n",
       "       [55.31084562, 13.17368938],\n",
       "       [99.29741702, 91.36448389],\n",
       "       [31.95756508, 23.85224755],\n",
       "       [41.74942467, 42.37419221],\n",
       "       [36.45080108, 24.14109888],\n",
       "       [17.60766334, 96.44134616],\n",
       "       [72.34524119, 10.11026603],\n",
       "       [12.49032194, 64.96790736],\n",
       "       [87.22470463, 59.66400696],\n",
       "       [53.55476082, 89.60985976]])"
      ]
     },
     "execution_count": 34,
     "metadata": {},
     "output_type": "execute_result"
    }
   ],
   "source": [
    "numbers=np.random.random((200,2))*100\n",
    "numbers"
   ]
  },
  {
   "cell_type": "code",
   "execution_count": 35,
   "id": "df47720c",
   "metadata": {},
   "outputs": [
    {
     "data": {
      "text/html": [
       "<div>\n",
       "<style scoped>\n",
       "    .dataframe tbody tr th:only-of-type {\n",
       "        vertical-align: middle;\n",
       "    }\n",
       "\n",
       "    .dataframe tbody tr th {\n",
       "        vertical-align: top;\n",
       "    }\n",
       "\n",
       "    .dataframe thead th {\n",
       "        text-align: right;\n",
       "    }\n",
       "</style>\n",
       "<table border=\"1\" class=\"dataframe\">\n",
       "  <thead>\n",
       "    <tr style=\"text-align: right;\">\n",
       "      <th></th>\n",
       "      <th>hieght</th>\n",
       "      <th>age</th>\n",
       "    </tr>\n",
       "  </thead>\n",
       "  <tbody>\n",
       "    <tr>\n",
       "      <th>0</th>\n",
       "      <td>8.140788</td>\n",
       "      <td>57.159295</td>\n",
       "    </tr>\n",
       "    <tr>\n",
       "      <th>1</th>\n",
       "      <td>38.055845</td>\n",
       "      <td>77.397247</td>\n",
       "    </tr>\n",
       "    <tr>\n",
       "      <th>2</th>\n",
       "      <td>18.982741</td>\n",
       "      <td>6.888632</td>\n",
       "    </tr>\n",
       "    <tr>\n",
       "      <th>3</th>\n",
       "      <td>6.970288</td>\n",
       "      <td>5.815011</td>\n",
       "    </tr>\n",
       "    <tr>\n",
       "      <th>4</th>\n",
       "      <td>16.599706</td>\n",
       "      <td>68.480823</td>\n",
       "    </tr>\n",
       "  </tbody>\n",
       "</table>\n",
       "</div>"
      ],
      "text/plain": [
       "      hieght        age\n",
       "0   8.140788  57.159295\n",
       "1  38.055845  77.397247\n",
       "2  18.982741   6.888632\n",
       "3   6.970288   5.815011\n",
       "4  16.599706  68.480823"
      ]
     },
     "execution_count": 35,
     "metadata": {},
     "output_type": "execute_result"
    }
   ],
   "source": [
    "df=pd.DataFrame(numbers,columns=['hieght','age'])\n",
    "df.head()"
   ]
  },
  {
   "cell_type": "code",
   "execution_count": 36,
   "id": "35b8be93",
   "metadata": {},
   "outputs": [],
   "source": [
    "df['hieght_cat']=df['hieght']>70\n",
    "df['age_cat']=df['age']<50"
   ]
  },
  {
   "cell_type": "code",
   "execution_count": 37,
   "id": "eae241d9",
   "metadata": {},
   "outputs": [
    {
     "data": {
      "text/html": [
       "<div>\n",
       "<style scoped>\n",
       "    .dataframe tbody tr th:only-of-type {\n",
       "        vertical-align: middle;\n",
       "    }\n",
       "\n",
       "    .dataframe tbody tr th {\n",
       "        vertical-align: top;\n",
       "    }\n",
       "\n",
       "    .dataframe thead th {\n",
       "        text-align: right;\n",
       "    }\n",
       "</style>\n",
       "<table border=\"1\" class=\"dataframe\">\n",
       "  <thead>\n",
       "    <tr style=\"text-align: right;\">\n",
       "      <th></th>\n",
       "      <th>hieght</th>\n",
       "      <th>age</th>\n",
       "      <th>hieght_cat</th>\n",
       "      <th>age_cat</th>\n",
       "    </tr>\n",
       "  </thead>\n",
       "  <tbody>\n",
       "    <tr>\n",
       "      <th>0</th>\n",
       "      <td>8.140788</td>\n",
       "      <td>57.159295</td>\n",
       "      <td>False</td>\n",
       "      <td>False</td>\n",
       "    </tr>\n",
       "    <tr>\n",
       "      <th>1</th>\n",
       "      <td>38.055845</td>\n",
       "      <td>77.397247</td>\n",
       "      <td>False</td>\n",
       "      <td>False</td>\n",
       "    </tr>\n",
       "    <tr>\n",
       "      <th>2</th>\n",
       "      <td>18.982741</td>\n",
       "      <td>6.888632</td>\n",
       "      <td>False</td>\n",
       "      <td>True</td>\n",
       "    </tr>\n",
       "    <tr>\n",
       "      <th>3</th>\n",
       "      <td>6.970288</td>\n",
       "      <td>5.815011</td>\n",
       "      <td>False</td>\n",
       "      <td>True</td>\n",
       "    </tr>\n",
       "    <tr>\n",
       "      <th>4</th>\n",
       "      <td>16.599706</td>\n",
       "      <td>68.480823</td>\n",
       "      <td>False</td>\n",
       "      <td>False</td>\n",
       "    </tr>\n",
       "  </tbody>\n",
       "</table>\n",
       "</div>"
      ],
      "text/plain": [
       "      hieght        age  hieght_cat  age_cat\n",
       "0   8.140788  57.159295       False    False\n",
       "1  38.055845  77.397247       False    False\n",
       "2  18.982741   6.888632       False     True\n",
       "3   6.970288   5.815011       False     True\n",
       "4  16.599706  68.480823       False    False"
      ]
     },
     "execution_count": 37,
     "metadata": {},
     "output_type": "execute_result"
    }
   ],
   "source": [
    "df.head()"
   ]
  },
  {
   "cell_type": "code",
   "execution_count": 38,
   "id": "4183250b",
   "metadata": {},
   "outputs": [],
   "source": [
    "df['hieght_cat'].replace(to_replace=True , value='tall',inplace=True)\n",
    "df['hieght_cat'].replace(to_replace=False , value='short',inplace=True)\n",
    "df['age_cat'].replace(to_replace=True , value='young',inplace=True)\n",
    "df['age_cat'].replace(to_replace=False , value='old',inplace=True)"
   ]
  },
  {
   "cell_type": "code",
   "execution_count": 39,
   "id": "8ccfa072",
   "metadata": {},
   "outputs": [
    {
     "data": {
      "text/html": [
       "<div>\n",
       "<style scoped>\n",
       "    .dataframe tbody tr th:only-of-type {\n",
       "        vertical-align: middle;\n",
       "    }\n",
       "\n",
       "    .dataframe tbody tr th {\n",
       "        vertical-align: top;\n",
       "    }\n",
       "\n",
       "    .dataframe thead th {\n",
       "        text-align: right;\n",
       "    }\n",
       "</style>\n",
       "<table border=\"1\" class=\"dataframe\">\n",
       "  <thead>\n",
       "    <tr style=\"text-align: right;\">\n",
       "      <th></th>\n",
       "      <th>hieght</th>\n",
       "      <th>age</th>\n",
       "      <th>hieght_cat</th>\n",
       "      <th>age_cat</th>\n",
       "    </tr>\n",
       "  </thead>\n",
       "  <tbody>\n",
       "    <tr>\n",
       "      <th>0</th>\n",
       "      <td>8.140788</td>\n",
       "      <td>57.159295</td>\n",
       "      <td>short</td>\n",
       "      <td>old</td>\n",
       "    </tr>\n",
       "    <tr>\n",
       "      <th>1</th>\n",
       "      <td>38.055845</td>\n",
       "      <td>77.397247</td>\n",
       "      <td>short</td>\n",
       "      <td>old</td>\n",
       "    </tr>\n",
       "    <tr>\n",
       "      <th>2</th>\n",
       "      <td>18.982741</td>\n",
       "      <td>6.888632</td>\n",
       "      <td>short</td>\n",
       "      <td>young</td>\n",
       "    </tr>\n",
       "    <tr>\n",
       "      <th>3</th>\n",
       "      <td>6.970288</td>\n",
       "      <td>5.815011</td>\n",
       "      <td>short</td>\n",
       "      <td>young</td>\n",
       "    </tr>\n",
       "    <tr>\n",
       "      <th>4</th>\n",
       "      <td>16.599706</td>\n",
       "      <td>68.480823</td>\n",
       "      <td>short</td>\n",
       "      <td>old</td>\n",
       "    </tr>\n",
       "  </tbody>\n",
       "</table>\n",
       "</div>"
      ],
      "text/plain": [
       "      hieght        age hieght_cat age_cat\n",
       "0   8.140788  57.159295      short     old\n",
       "1  38.055845  77.397247      short     old\n",
       "2  18.982741   6.888632      short   young\n",
       "3   6.970288   5.815011      short   young\n",
       "4  16.599706  68.480823      short     old"
      ]
     },
     "execution_count": 39,
     "metadata": {},
     "output_type": "execute_result"
    }
   ],
   "source": [
    "df.head()"
   ]
  },
  {
   "cell_type": "code",
   "execution_count": 40,
   "id": "5e16fe5c",
   "metadata": {},
   "outputs": [],
   "source": [
    "import matplotlib.pyplot as plt\n",
    "import seaborn as sns\n",
    "%matplotlib inline"
   ]
  },
  {
   "cell_type": "code",
   "execution_count": 41,
   "id": "90ff4691",
   "metadata": {},
   "outputs": [
    {
     "data": {
      "text/plain": [
       "Text(0, 0.5, 'Age')"
      ]
     },
     "execution_count": 41,
     "metadata": {},
     "output_type": "execute_result"
    },
    {
     "data": {
      "image/png": "[encoded data removed]",
      "text/plain": [
       "<Figure size 432x288 with 1 Axes>"
      ]
     },
     "metadata": {
      "needs_background": "light"
     },
     "output_type": "display_data"
    }
   ],
   "source": [
    "sns.scatterplot(x=df['hieght'] , y=df['age'])\n",
    "plt.title('Relationship between Hieght and Age')\n",
    "plt.xlabel('Hieght')\n",
    "plt.ylabel('Age')"
   ]
  },
  {
   "cell_type": "code",
   "execution_count": 43,
   "id": "2aa972d6",
   "metadata": {},
   "outputs": [
    {
     "data": {
      "text/plain": [
       "Text(0, 0.5, 'response')"
      ]
     },
     "execution_count": 43,
     "metadata": {},
     "output_type": "execute_result"
    },
    {
     "data": {
      "image/png": "[encoded data removed]",
      "text/plain": [
       "<Figure size 432x288 with 1 Axes>"
      ]
     },
     "metadata": {
      "needs_background": "light"
     },
     "output_type": "display_data"
    }
   ],
   "source": [
    "sns.boxenplot(x=df['hieght_cat'], y=df['hieght'])\n",
    "plt.title('Relationship between categorical varibals and a numrical varibal')\n",
    "plt.xlabel('predictor')\n",
    "plt.ylabel('response')"
   ]
  },
  {
   "cell_type": "code",
   "execution_count": 53,
   "id": "cabe6009",
   "metadata": {},
   "outputs": [
    {
     "data": {
      "text/plain": [
       "<seaborn.axisgrid.FacetGrid at 0x2272d8b7850>"
      ]
     },
     "execution_count": 53,
     "metadata": {},
     "output_type": "execute_result"
    },
    {
     "data": {
      "image/png": "[encoded data removed]",
      "text/plain": [
       "<Figure size 360x360 with 1 Axes>"
      ]
     },
     "metadata": {
      "needs_background": "light"
     },
     "output_type": "display_data"
    },
    {
     "data": {
      "image/png": "[encoded data removed]",
      "text/plain": [
       "<Figure size 360x360 with 1 Axes>"
      ]
     },
     "metadata": {
      "needs_background": "light"
     },
     "output_type": "display_data"
    }
   ],
   "source": [
    "sns.displot(df['hieght'][df['hieght_cat']=='short'],label='Short')\n",
    "sns.displot(df['hieght'][df['hieght_cat']=='tall'],label='Tall')"
   ]
  },
  {
   "cell_type": "code",
   "execution_count": 58,
   "id": "b88e2b9e",
   "metadata": {},
   "outputs": [
    {
     "data": {
      "image/png": "[encoded data removed]",
      "text/plain": [
       "<Figure size 432x288 with 3 Axes>"
      ]
     },
     "metadata": {
      "needs_background": "light"
     },
     "output_type": "display_data"
    }
   ],
   "source": [
    "from statsmodels.graphics.mosaicplot import mosaic\n",
    "mosaic(df,['hieght_cat','age_cat'])\n",
    "plt.show()"
   ]
  },
  {
   "cell_type": "code",
   "execution_count": null,
   "id": "35184a9e",
   "metadata": {},
   "outputs": [],
   "source": []
  }
 ],
 "metadata": {
  "kernelspec": {
   "display_name": "Python 3 (ipykernel)",
   "language": "python",
   "name": "python3"
  },
  "language_info": {
   "codemirror_mode": {
    "name": "ipython",
    "version": 3
   },
   "file_extension": ".py",
   "mimetype": "text/x-python",
   "name": "python",
   "nbconvert_exporter": "python",
   "pygments_lexer": "ipython3",
   "version": "3.9.7"
  }
 },
 "nbformat": 4,
 "nbformat_minor": 5
}
