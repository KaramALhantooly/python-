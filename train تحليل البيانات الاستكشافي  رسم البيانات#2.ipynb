{
 "cells": [
  {
   "cell_type": "code",
   "execution_count": 66,
   "id": "488588e3",
   "metadata": {},
   "outputs": [],
   "source": [
    "import numpy as np\n",
    "import pandas as pd"
   ]
  },
  {
   "cell_type": "code",
   "execution_count": 67,
   "id": "7945ab8b",
   "metadata": {},
   "outputs": [
    {
     "data": {
      "text/plain": [
       "array([[30.03526744, 84.18357565, 98.01734076],\n",
       "       [51.7043864 ,  1.71297363, 75.53264937],\n",
       "       [43.0967732 , 37.12406401, 87.21025818],\n",
       "       [29.3576608 , 93.10558605, 46.39293018],\n",
       "       [17.04499414, 15.532871  , 53.61147128],\n",
       "       [52.69247921, 13.30745068, 12.40422223],\n",
       "       [12.62101705, 59.91126699, 70.84306106],\n",
       "       [79.19249987, 47.14684955, 82.67736051],\n",
       "       [32.60540725, 15.28540842, 94.88902589],\n",
       "       [74.88362672, 11.56788023, 48.63494439],\n",
       "       [55.42768576, 34.46534153, 30.37554315],\n",
       "       [59.60138106, 15.13699519, 84.76367007],\n",
       "       [67.50705579,  2.99285663, 65.0019554 ],\n",
       "       [36.47953584, 17.80286899, 34.23036682],\n",
       "       [89.61164734, 14.88482683, 46.37964273],\n",
       "       [44.85815069, 83.76320399, 73.92201752],\n",
       "       [98.48952962, 45.79243302, 75.89833234],\n",
       "       [38.95091195, 80.98813995, 81.39190764],\n",
       "       [12.39852245, 18.32063004, 46.92202593],\n",
       "       [20.41950157, 56.47079936, 62.89632015],\n",
       "       [93.08278266, 40.90376061,  8.03595514],\n",
       "       [18.14938412, 15.58971115, 97.4077653 ],\n",
       "       [77.45463062, 75.22462635, 53.01009474],\n",
       "       [25.83001827, 95.83144582, 96.16109655],\n",
       "       [30.95578213, 45.071364  , 93.98011987],\n",
       "       [83.44721785,  9.98260719, 46.85510175],\n",
       "       [ 4.29108876,  9.86557671, 79.13484297],\n",
       "       [ 7.43640989, 58.81193246, 39.18429129],\n",
       "       [ 6.57319746,  3.70687962, 34.12592878],\n",
       "       [47.27488253, 47.20126536, 66.53095929],\n",
       "       [96.83688578, 20.28921832, 80.80993081],\n",
       "       [ 4.49289727, 63.80299378, 73.95365794],\n",
       "       [71.34585287, 92.19234886, 40.22524149],\n",
       "       [97.94061491, 26.26599119, 29.98949463],\n",
       "       [46.5515824 , 95.10530062, 60.36594209],\n",
       "       [91.0454695 , 40.92296213, 78.1514912 ],\n",
       "       [44.38278115, 11.58934069, 72.75767521],\n",
       "       [56.83969335, 28.027082  , 11.95610562],\n",
       "       [24.21262507, 75.39797874, 17.42584023],\n",
       "       [53.9231311 , 95.7791623 , 87.63666593],\n",
       "       [97.3069841 , 31.47891847, 52.20078171],\n",
       "       [38.35156084, 31.87927145, 68.89316865],\n",
       "       [ 0.98131199, 41.10004451, 56.02332292],\n",
       "       [12.65663245, 54.70113138, 13.63402938],\n",
       "       [92.47156839, 91.84310766, 59.27809665],\n",
       "       [83.00699265, 63.27954679, 92.54053966],\n",
       "       [20.70697553, 68.16970479, 64.26338701],\n",
       "       [92.09507173, 20.15088809, 37.65539948],\n",
       "       [48.30513613, 64.94526328,  0.22766084],\n",
       "       [29.55234163, 71.04989606, 45.21864163],\n",
       "       [ 3.46308451, 75.86485951, 96.30173603],\n",
       "       [ 6.6723846 , 60.47617827, 20.69572467],\n",
       "       [70.7690621 , 74.54427039,  3.09089854],\n",
       "       [65.00405443, 10.41403748,  4.5115227 ],\n",
       "       [91.74561735, 37.08852996, 73.27538649],\n",
       "       [85.61629522, 97.85843552, 24.45224527],\n",
       "       [77.59017921, 85.03977697, 72.11950076],\n",
       "       [ 2.66169646, 82.00724106, 23.90123474],\n",
       "       [64.53337247, 14.49831403, 53.16231977],\n",
       "       [28.35154247, 74.59071898, 98.43318708],\n",
       "       [39.4976547 , 19.21192322, 11.76027161],\n",
       "       [35.63461488, 76.40468841,  6.64523326],\n",
       "       [67.2588059 , 80.17307967, 56.36705296],\n",
       "       [57.90668456, 70.52744027, 51.40244937],\n",
       "       [93.0477569 , 24.1328448 , 75.44400612],\n",
       "       [26.02276151, 85.85157363, 81.7029232 ],\n",
       "       [92.5460768 ,  8.91078359,  2.10059269],\n",
       "       [29.87372488, 47.33520017, 98.91152471],\n",
       "       [85.87496866, 31.07854679, 81.65536315],\n",
       "       [16.11902336, 95.69025769, 13.51477142],\n",
       "       [33.79835729, 91.50814485,  5.16320626],\n",
       "       [46.26530294, 15.02115162, 89.68108835],\n",
       "       [ 7.91773032, 77.04946041,  5.6532957 ],\n",
       "       [89.97103411, 59.71742173, 63.77715843],\n",
       "       [37.06916575, 98.35965007, 80.76385181],\n",
       "       [57.81382319, 37.7609966 , 81.97781016],\n",
       "       [68.20989125, 35.09915749, 83.12382408],\n",
       "       [46.17747981, 61.59834952, 81.63311808],\n",
       "       [51.20738175, 86.11677708, 34.81635505],\n",
       "       [16.46686701,  8.84249622, 11.94070455],\n",
       "       [24.8541774 , 91.98276678, 38.26662987],\n",
       "       [65.0305792 , 73.08059538,  9.7520907 ],\n",
       "       [97.28232868, 67.64993618, 59.58886855],\n",
       "       [26.90798626, 38.67797871, 56.46069885],\n",
       "       [40.62209883,  2.03458509, 41.56573383],\n",
       "       [30.61657874, 22.52737737,  6.45156917],\n",
       "       [12.5993626 , 98.98369352, 53.26833158],\n",
       "       [38.70417618, 61.7125026 , 99.16811199],\n",
       "       [28.74304576, 46.3080787 , 21.63058666],\n",
       "       [82.62769367, 25.38790619, 44.31473063],\n",
       "       [56.26982803,  0.61242165, 26.2307214 ],\n",
       "       [83.60789786, 94.05009087, 22.6254876 ],\n",
       "       [34.20356402, 80.02006449, 43.15078596],\n",
       "       [65.96297773, 73.64495714, 58.04037673],\n",
       "       [25.546199  , 19.79358486, 94.36636932],\n",
       "       [91.3217159 , 14.85002645,  9.19838912],\n",
       "       [12.22110713, 62.04337113, 24.81206738],\n",
       "       [76.62508886, 63.05890172, 67.36703302],\n",
       "       [22.7179175 , 81.77248138, 71.41942077],\n",
       "       [14.0932417 , 41.05981067, 10.79024122]])"
      ]
     },
     "execution_count": 67,
     "metadata": {},
     "output_type": "execute_result"
    }
   ],
   "source": [
    "numb=np.random.random((100,3))*100\n",
    "numb\n"
   ]
  },
  {
   "cell_type": "code",
   "execution_count": 68,
   "id": "36cc27cc",
   "metadata": {},
   "outputs": [
    {
     "data": {
      "text/html": [
       "<div>\n",
       "<style scoped>\n",
       "    .dataframe tbody tr th:only-of-type {\n",
       "        vertical-align: middle;\n",
       "    }\n",
       "\n",
       "    .dataframe tbody tr th {\n",
       "        vertical-align: top;\n",
       "    }\n",
       "\n",
       "    .dataframe thead th {\n",
       "        text-align: right;\n",
       "    }\n",
       "</style>\n",
       "<table border=\"1\" class=\"dataframe\">\n",
       "  <thead>\n",
       "    <tr style=\"text-align: right;\">\n",
       "      <th></th>\n",
       "      <th>hieght</th>\n",
       "      <th>age</th>\n",
       "      <th>income</th>\n",
       "    </tr>\n",
       "  </thead>\n",
       "  <tbody>\n",
       "    <tr>\n",
       "      <th>0</th>\n",
       "      <td>30.035267</td>\n",
       "      <td>84.183576</td>\n",
       "      <td>98.017341</td>\n",
       "    </tr>\n",
       "    <tr>\n",
       "      <th>1</th>\n",
       "      <td>51.704386</td>\n",
       "      <td>1.712974</td>\n",
       "      <td>75.532649</td>\n",
       "    </tr>\n",
       "    <tr>\n",
       "      <th>2</th>\n",
       "      <td>43.096773</td>\n",
       "      <td>37.124064</td>\n",
       "      <td>87.210258</td>\n",
       "    </tr>\n",
       "    <tr>\n",
       "      <th>3</th>\n",
       "      <td>29.357661</td>\n",
       "      <td>93.105586</td>\n",
       "      <td>46.392930</td>\n",
       "    </tr>\n",
       "    <tr>\n",
       "      <th>4</th>\n",
       "      <td>17.044994</td>\n",
       "      <td>15.532871</td>\n",
       "      <td>53.611471</td>\n",
       "    </tr>\n",
       "  </tbody>\n",
       "</table>\n",
       "</div>"
      ],
      "text/plain": [
       "      hieght        age     income\n",
       "0  30.035267  84.183576  98.017341\n",
       "1  51.704386   1.712974  75.532649\n",
       "2  43.096773  37.124064  87.210258\n",
       "3  29.357661  93.105586  46.392930\n",
       "4  17.044994  15.532871  53.611471"
      ]
     },
     "execution_count": 68,
     "metadata": {},
     "output_type": "execute_result"
    }
   ],
   "source": [
    "df=pd.DataFrame(numb,columns=['hieght','age','income'])\n",
    "df.head()"
   ]
  },
  {
   "cell_type": "code",
   "execution_count": 69,
   "id": "8e0213fc",
   "metadata": {},
   "outputs": [
    {
     "data": {
      "text/plain": [
       "count    100.000000\n",
       "mean     527.607488\n",
       "std      296.602817\n",
       "min        2.276608\n",
       "25%      258.760579\n",
       "50%      548.173971\n",
       "75%      783.973291\n",
       "max      991.681120\n",
       "Name: income, dtype: float64"
      ]
     },
     "execution_count": 69,
     "metadata": {},
     "output_type": "execute_result"
    }
   ],
   "source": [
    "df['income']=df['income']*10\n",
    "df['income'].describe()"
   ]
  },
  {
   "cell_type": "code",
   "execution_count": 70,
   "id": "bb5796aa",
   "metadata": {},
   "outputs": [],
   "source": [
    "data=df"
   ]
  },
  {
   "cell_type": "code",
   "execution_count": 71,
   "id": "0d8fca03",
   "metadata": {
    "scrolled": true
   },
   "outputs": [
    {
     "data": {
      "text/html": [
       "<div>\n",
       "<style scoped>\n",
       "    .dataframe tbody tr th:only-of-type {\n",
       "        vertical-align: middle;\n",
       "    }\n",
       "\n",
       "    .dataframe tbody tr th {\n",
       "        vertical-align: top;\n",
       "    }\n",
       "\n",
       "    .dataframe thead th {\n",
       "        text-align: right;\n",
       "    }\n",
       "</style>\n",
       "<table border=\"1\" class=\"dataframe\">\n",
       "  <thead>\n",
       "    <tr style=\"text-align: right;\">\n",
       "      <th></th>\n",
       "      <th>hieght</th>\n",
       "      <th>age</th>\n",
       "      <th>income</th>\n",
       "    </tr>\n",
       "  </thead>\n",
       "  <tbody>\n",
       "    <tr>\n",
       "      <th>0</th>\n",
       "      <td>30.035267</td>\n",
       "      <td>84.183576</td>\n",
       "      <td>980.173408</td>\n",
       "    </tr>\n",
       "    <tr>\n",
       "      <th>1</th>\n",
       "      <td>51.704386</td>\n",
       "      <td>1.712974</td>\n",
       "      <td>755.326494</td>\n",
       "    </tr>\n",
       "    <tr>\n",
       "      <th>2</th>\n",
       "      <td>43.096773</td>\n",
       "      <td>37.124064</td>\n",
       "      <td>872.102582</td>\n",
       "    </tr>\n",
       "    <tr>\n",
       "      <th>3</th>\n",
       "      <td>29.357661</td>\n",
       "      <td>93.105586</td>\n",
       "      <td>463.929302</td>\n",
       "    </tr>\n",
       "    <tr>\n",
       "      <th>4</th>\n",
       "      <td>17.044994</td>\n",
       "      <td>15.532871</td>\n",
       "      <td>536.114713</td>\n",
       "    </tr>\n",
       "  </tbody>\n",
       "</table>\n",
       "</div>"
      ],
      "text/plain": [
       "      hieght        age      income\n",
       "0  30.035267  84.183576  980.173408\n",
       "1  51.704386   1.712974  755.326494\n",
       "2  43.096773  37.124064  872.102582\n",
       "3  29.357661  93.105586  463.929302\n",
       "4  17.044994  15.532871  536.114713"
      ]
     },
     "execution_count": 71,
     "metadata": {},
     "output_type": "execute_result"
    }
   ],
   "source": [
    "data.head()"
   ]
  },
  {
   "cell_type": "code",
   "execution_count": 84,
   "id": "6ae73805",
   "metadata": {},
   "outputs": [],
   "source": [
    "df['hieght_cat']=df['hieght']>180\n",
    "df['age_cat']=df['age']>65\n",
    "df['income_cat']=df['income']>500"
   ]
  },
  {
   "cell_type": "code",
   "execution_count": 85,
   "id": "eb3f8a96",
   "metadata": {},
   "outputs": [],
   "source": [
    "df['hieght_cat'].replace(to_replace=True , value='tall',inplace=True)\n",
    "df['hieght_cat'].replace(to_replace=False , value='short',inplace=True)\n",
    "df['age_cat'].replace(to_replace=True , value='old',inplace=True)\n",
    "df['age_cat'].replace(to_replace=False , value='young',inplace=True)\n",
    "df['income_cat'].replace(to_replace=True , value='rich',inplace=True)\n",
    "df['income_cat'].replace(to_replace=False , value='POOR',inplace=True)\n",
    "\n"
   ]
  },
  {
   "cell_type": "code",
   "execution_count": 86,
   "id": "55aa55ac",
   "metadata": {},
   "outputs": [
    {
     "data": {
      "text/html": [
       "<div>\n",
       "<style scoped>\n",
       "    .dataframe tbody tr th:only-of-type {\n",
       "        vertical-align: middle;\n",
       "    }\n",
       "\n",
       "    .dataframe tbody tr th {\n",
       "        vertical-align: top;\n",
       "    }\n",
       "\n",
       "    .dataframe thead th {\n",
       "        text-align: right;\n",
       "    }\n",
       "</style>\n",
       "<table border=\"1\" class=\"dataframe\">\n",
       "  <thead>\n",
       "    <tr style=\"text-align: right;\">\n",
       "      <th></th>\n",
       "      <th>hieght</th>\n",
       "      <th>age</th>\n",
       "      <th>income</th>\n",
       "      <th>hieght_cat</th>\n",
       "      <th>age_cat</th>\n",
       "      <th>income_cat</th>\n",
       "    </tr>\n",
       "  </thead>\n",
       "  <tbody>\n",
       "    <tr>\n",
       "      <th>0</th>\n",
       "      <td>30.035267</td>\n",
       "      <td>84.183576</td>\n",
       "      <td>980.173408</td>\n",
       "      <td>short</td>\n",
       "      <td>old</td>\n",
       "      <td>rich</td>\n",
       "    </tr>\n",
       "    <tr>\n",
       "      <th>1</th>\n",
       "      <td>51.704386</td>\n",
       "      <td>1.712974</td>\n",
       "      <td>755.326494</td>\n",
       "      <td>short</td>\n",
       "      <td>young</td>\n",
       "      <td>rich</td>\n",
       "    </tr>\n",
       "    <tr>\n",
       "      <th>2</th>\n",
       "      <td>43.096773</td>\n",
       "      <td>37.124064</td>\n",
       "      <td>872.102582</td>\n",
       "      <td>short</td>\n",
       "      <td>young</td>\n",
       "      <td>rich</td>\n",
       "    </tr>\n",
       "    <tr>\n",
       "      <th>3</th>\n",
       "      <td>29.357661</td>\n",
       "      <td>93.105586</td>\n",
       "      <td>463.929302</td>\n",
       "      <td>short</td>\n",
       "      <td>old</td>\n",
       "      <td>POOR</td>\n",
       "    </tr>\n",
       "    <tr>\n",
       "      <th>4</th>\n",
       "      <td>17.044994</td>\n",
       "      <td>15.532871</td>\n",
       "      <td>536.114713</td>\n",
       "      <td>short</td>\n",
       "      <td>young</td>\n",
       "      <td>rich</td>\n",
       "    </tr>\n",
       "  </tbody>\n",
       "</table>\n",
       "</div>"
      ],
      "text/plain": [
       "      hieght        age      income hieght_cat age_cat income_cat\n",
       "0  30.035267  84.183576  980.173408      short     old       rich\n",
       "1  51.704386   1.712974  755.326494      short   young       rich\n",
       "2  43.096773  37.124064  872.102582      short   young       rich\n",
       "3  29.357661  93.105586  463.929302      short     old       POOR\n",
       "4  17.044994  15.532871  536.114713      short   young       rich"
      ]
     },
     "execution_count": 86,
     "metadata": {},
     "output_type": "execute_result"
    }
   ],
   "source": [
    "df.head()"
   ]
  },
  {
   "cell_type": "code",
   "execution_count": 79,
   "id": "64f9e4c1",
   "metadata": {},
   "outputs": [
    {
     "data": {
      "text/html": [
       "<div>\n",
       "<style scoped>\n",
       "    .dataframe tbody tr th:only-of-type {\n",
       "        vertical-align: middle;\n",
       "    }\n",
       "\n",
       "    .dataframe tbody tr th {\n",
       "        vertical-align: top;\n",
       "    }\n",
       "\n",
       "    .dataframe thead th {\n",
       "        text-align: right;\n",
       "    }\n",
       "</style>\n",
       "<table border=\"1\" class=\"dataframe\">\n",
       "  <thead>\n",
       "    <tr style=\"text-align: right;\">\n",
       "      <th></th>\n",
       "      <th>hieght</th>\n",
       "      <th>age</th>\n",
       "      <th>income</th>\n",
       "      <th>hieght_cat</th>\n",
       "      <th>age_cat</th>\n",
       "      <th>income_cat</th>\n",
       "    </tr>\n",
       "  </thead>\n",
       "  <tbody>\n",
       "    <tr>\n",
       "      <th>0</th>\n",
       "      <td>30.035267</td>\n",
       "      <td>84.183576</td>\n",
       "      <td>980.173408</td>\n",
       "      <td>short</td>\n",
       "      <td>old</td>\n",
       "      <td>rich</td>\n",
       "    </tr>\n",
       "    <tr>\n",
       "      <th>1</th>\n",
       "      <td>51.704386</td>\n",
       "      <td>1.712974</td>\n",
       "      <td>755.326494</td>\n",
       "      <td>short</td>\n",
       "      <td>young</td>\n",
       "      <td>rich</td>\n",
       "    </tr>\n",
       "    <tr>\n",
       "      <th>2</th>\n",
       "      <td>43.096773</td>\n",
       "      <td>37.124064</td>\n",
       "      <td>872.102582</td>\n",
       "      <td>short</td>\n",
       "      <td>young</td>\n",
       "      <td>rich</td>\n",
       "    </tr>\n",
       "    <tr>\n",
       "      <th>3</th>\n",
       "      <td>29.357661</td>\n",
       "      <td>93.105586</td>\n",
       "      <td>463.929302</td>\n",
       "      <td>short</td>\n",
       "      <td>old</td>\n",
       "      <td>فقير</td>\n",
       "    </tr>\n",
       "    <tr>\n",
       "      <th>4</th>\n",
       "      <td>17.044994</td>\n",
       "      <td>15.532871</td>\n",
       "      <td>536.114713</td>\n",
       "      <td>short</td>\n",
       "      <td>young</td>\n",
       "      <td>rich</td>\n",
       "    </tr>\n",
       "  </tbody>\n",
       "</table>\n",
       "</div>"
      ],
      "text/plain": [
       "      hieght        age      income hieght_cat age_cat income_cat\n",
       "0  30.035267  84.183576  980.173408      short     old       rich\n",
       "1  51.704386   1.712974  755.326494      short   young       rich\n",
       "2  43.096773  37.124064  872.102582      short   young       rich\n",
       "3  29.357661  93.105586  463.929302      short     old       فقير\n",
       "4  17.044994  15.532871  536.114713      short   young       rich"
      ]
     },
     "execution_count": 79,
     "metadata": {},
     "output_type": "execute_result"
    }
   ],
   "source": [
    "df.head()"
   ]
  },
  {
   "cell_type": "code",
   "execution_count": 87,
   "id": "8aada0ce",
   "metadata": {},
   "outputs": [],
   "source": [
    "import matplotlib.pyplot as plt\n",
    "import seaborn as sns\n",
    "%matplotlib inline"
   ]
  },
  {
   "cell_type": "code",
   "execution_count": 88,
   "id": "751cfec3",
   "metadata": {},
   "outputs": [
    {
     "data": {
      "text/plain": [
       "Text(0, 0.5, 'Age')"
      ]
     },
     "execution_count": 88,
     "metadata": {},
     "output_type": "execute_result"
    },
    {
     "data": {
      "image/png": "[encoded data removed]",
      "text/plain": [
       "<Figure size 432x288 with 1 Axes>"
      ]
     },
     "metadata": {
      "needs_background": "light"
     },
     "output_type": "display_data"
    }
   ],
   "source": [
    "sns.scatterplot(x=df['hieght'] , y=df['age'])\n",
    "plt.title('Relationship between Hieght and Age')\n",
    "plt.xlabel('Hieght')\n",
    "plt.ylabel('Age')"
   ]
  },
  {
   "cell_type": "code",
   "execution_count": 89,
   "id": "eb1d5ae8",
   "metadata": {},
   "outputs": [
    {
     "data": {
      "text/plain": [
       "<AxesSubplot:xlabel='hieght_cat', ylabel='hieght'>"
      ]
     },
     "execution_count": 89,
     "metadata": {},
     "output_type": "execute_result"
    },
    {
     "data": {
      "image/png": "[encoded data removed]",
      "text/plain": [
       "<Figure size 432x288 with 1 Axes>"
      ]
     },
     "metadata": {
      "needs_background": "light"
     },
     "output_type": "display_data"
    }
   ],
   "source": [
    "sns.boxenplot(x=df['hieght_cat'], y=df['hieght'])"
   ]
  },
  {
   "cell_type": "code",
   "execution_count": null,
   "id": "6c2cdd72",
   "metadata": {},
   "outputs": [],
   "source": []
  }
 ],
 "metadata": {
  "kernelspec": {
   "display_name": "Python 3 (ipykernel)",
   "language": "python",
   "name": "python3"
  },
  "language_info": {
   "codemirror_mode": {
    "name": "ipython",
    "version": 3
   },
   "file_extension": ".py",
   "mimetype": "text/x-python",
   "name": "python",
   "nbconvert_exporter": "python",
   "pygments_lexer": "ipython3",
   "version": "3.9.7"
  }
 },
 "nbformat": 4,
 "nbformat_minor": 5
}
