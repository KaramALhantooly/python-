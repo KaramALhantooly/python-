{
 "cells": [
  {
   "cell_type": "code",
   "execution_count": 18,
   "id": "d4de5a62",
   "metadata": {},
   "outputs": [],
   "source": [
    "from sklearn.datasets import load_boston\n",
    "boston_data = load_boston()"
   ]
  },
  {
   "cell_type": "code",
   "execution_count": 19,
   "id": "6f55a640",
   "metadata": {},
   "outputs": [],
   "source": [
    "X=boston_data['data']\n",
    "y=boston_data['target']"
   ]
  },
  {
   "cell_type": "code",
   "execution_count": 20,
   "id": "5ee35e63",
   "metadata": {},
   "outputs": [
    {
     "data": {
      "text/plain": [
       "(506, 13)"
      ]
     },
     "execution_count": 20,
     "metadata": {},
     "output_type": "execute_result"
    }
   ],
   "source": [
    "X.shape"
   ]
  },
  {
   "cell_type": "code",
   "execution_count": 21,
   "id": "9f0d899e",
   "metadata": {},
   "outputs": [
    {
     "data": {
      "text/plain": [
       "(506,)"
      ]
     },
     "execution_count": 21,
     "metadata": {},
     "output_type": "execute_result"
    }
   ],
   "source": [
    "y.shape"
   ]
  },
  {
   "cell_type": "code",
   "execution_count": 22,
   "id": "75c7921c",
   "metadata": {},
   "outputs": [],
   "source": [
    "#from sklearn.model_selection import train_test_split"
   ]
  },
  {
   "cell_type": "code",
   "execution_count": 25,
   "id": "25794a3c",
   "metadata": {},
   "outputs": [],
   "source": [
    "X_train ,X_test , y_train , y_test = train_test_split(X , y , test_size=0.3)"
   ]
  },
  {
   "cell_type": "code",
   "execution_count": 32,
   "id": "780dcaad",
   "metadata": {},
   "outputs": [],
   "source": [
    "from sklearn.linear_model import LinearRegression"
   ]
  },
  {
   "cell_type": "code",
   "execution_count": 34,
   "id": "f790b5af",
   "metadata": {},
   "outputs": [
    {
     "data": {
      "text/plain": [
       "LinearRegression()"
      ]
     },
     "execution_count": 34,
     "metadata": {},
     "output_type": "execute_result"
    }
   ],
   "source": [
    "model = LinearRegression()\n",
    "model.fit(X_train , y_train)"
   ]
  },
  {
   "cell_type": "code",
   "execution_count": 42,
   "id": "82c7c017",
   "metadata": {},
   "outputs": [
    {
     "data": {
      "text/plain": [
       "array([28.61866125, 18.73909713, 16.91312816, 14.03946898, 30.14265948,\n",
       "       15.41935674, 37.75417741, 19.12700896, 23.45394104, 19.37487322,\n",
       "       18.68281854, 11.77665871, 34.77473082, 19.92351964, 32.87922158,\n",
       "       20.68476095, 38.97359427, 19.93414826, 20.21897496, 40.73646901,\n",
       "       16.44904608, 16.11652499, 11.87741204, 21.11613756, 17.680952  ,\n",
       "       43.01267147, 25.21651162, 21.82614872, 17.55112586, 23.80649378,\n",
       "       26.74025041,  8.84356087, 23.90572541, 21.00245091, 22.98585075,\n",
       "       32.85799615, 12.74111685, 17.23162447, 23.77020977, 21.1923356 ,\n",
       "       26.84999804, 20.14400777, 17.8963922 , 19.38308484, 17.08645059,\n",
       "       21.19021994, 17.60129765, 21.28978666,  5.91904887, 13.77279616,\n",
       "       23.7988301 , 24.12678906, 12.3296747 , 27.15942377, 21.09953338,\n",
       "       23.10974867, 18.81513348,  6.88825374, 16.91729522, 36.82292767,\n",
       "       13.84857902, 27.76062252, 34.54365594, 24.85226847, 22.02004606,\n",
       "       27.08077617, 25.08330324, 13.11878566, 12.07177256, 43.03426025,\n",
       "       23.97944185, 17.4004782 , 31.60797923, 20.29961474, 32.36612191,\n",
       "       33.8101643 , 25.9889977 , 19.14928242, 31.17771235, 30.56493871,\n",
       "       36.41183798, 28.05349416, 17.68981937, 22.53424225, 16.38564416,\n",
       "       22.0303088 ,  9.78435503, 33.61669314, 23.94132973, 29.9353954 ,\n",
       "       24.90293046, 22.0621399 , 16.21309963, 22.36102518, 23.49498207,\n",
       "       16.96194602, 21.16459591,  6.71864537, 16.85219973, 29.15774509,\n",
       "       21.53487453,  9.41419619, 20.41009811, 22.96278387, 30.39424037,\n",
       "       35.99409619, 21.04607839, 22.20652235, 20.0495014 , 17.49123669,\n",
       "       34.51262138, 23.93674725, 16.33062808, 17.70506774, 21.29553872,\n",
       "       20.52890708, 19.37138905, 35.45509698, 14.32696655, 34.28641521,\n",
       "       16.4029717 , 18.99014736, 28.37681871, 22.8213867 , 20.0514046 ,\n",
       "       31.49943923, 33.76656175, 28.02575039, 30.74660459, 16.21991633,\n",
       "       18.33293931, 25.93093238, 23.00462557, 30.63327242, 17.37592159,\n",
       "       18.92314239, 28.32062944, 21.57472805, 24.68093592, 24.69194566,\n",
       "       23.76450204, 20.00409142, 33.74841972,  6.08277355, 15.01671837,\n",
       "       32.20902834, 23.27936026, 17.6906357 , 21.99894453, 24.20266589,\n",
       "       24.96677124, 18.44179842])"
      ]
     },
     "execution_count": 42,
     "metadata": {},
     "output_type": "execute_result"
    }
   ],
   "source": [
    "model.predict(X_test)"
   ]
  },
  {
   "cell_type": "code",
   "execution_count": 44,
   "id": "5da964f7",
   "metadata": {},
   "outputs": [
    {
     "data": {
      "text/plain": [
       "0.7274080789038493"
      ]
     },
     "execution_count": 44,
     "metadata": {},
     "output_type": "execute_result"
    }
   ],
   "source": [
    "model.score(X_test,y_test)"
   ]
  },
  {
   "cell_type": "code",
   "execution_count": null,
   "id": "9c2d4c32",
   "metadata": {},
   "outputs": [],
   "source": []
  }
 ],
 "metadata": {
  "kernelspec": {
   "display_name": "Python 3 (ipykernel)",
   "language": "python",
   "name": "python3"
  },
  "language_info": {
   "codemirror_mode": {
    "name": "ipython",
    "version": 3
   },
   "file_extension": ".py",
   "mimetype": "text/x-python",
   "name": "python",
   "nbconvert_exporter": "python",
   "pygments_lexer": "ipython3",
   "version": "3.9.7"
  }
 },
 "nbformat": 4,
 "nbformat_minor": 5
}
